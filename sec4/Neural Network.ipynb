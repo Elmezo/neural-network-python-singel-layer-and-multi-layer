{
 "cells": [
  {
   "cell_type": "markdown",
   "metadata": {},
   "source": [
    "# Perceptron\n",
    "![](resources/Perceptron.png)\n",
    "\n",
    "$S = \\sum_{i=1}^{n} x_i w_i + b $\n",
    "\n",
    "$= x_1 w_1 + x_2 w_2 + x_3 w_3 + ... + x_n w_n  + b $"
   ]
  },
  {
   "cell_type": "markdown",
   "metadata": {},
   "source": [
    "<hr style=\"border:1px solid gray\"> </hr>\n",
    "\n",
    "### Example\n",
    "predect the output of the AND gate\n",
    "\n",
    "2 inputs, 1 output\n",
    "\n",
    "<img src=\"resources/and1.png\" width=400 align=\"right\">\n",
    "\n",
    "### Summation\n",
    "$S = \\sum_{i=1}^{2} x_i w_i + b $\n",
    "\n",
    "$= x_1 w_1 + x_2 w_2 + b $\n",
    "\n",
    "### Transformation\n",
    "\n",
    "$ F(x)=   \\left\\{\n",
    "\\begin{array}{ll}\n",
    "      1 & x>=0 \\\\\n",
    "      0 & x<0 \\\\\n",
    "\\end{array} \n",
    "\\right.  $\n",
    "\n",
    "<img src=\"resources/images.png\" width=200 align=\"left\">\n",
    "\n",
    "\n",
    "<img src=\"resources/and2.png\" width=400  align=\"right\">\n",
    "\n",
    "\n"
   ]
  },
  {
   "cell_type": "markdown",
   "metadata": {},
   "source": [
    "<hr style=\"border:1px solid gray\"> </hr>\n",
    "\n",
    "let x1=1, x2=0\n",
    "\n",
    "$S = \\sum_{i=1}^{2} x_i w_i + b $\n",
    "\n",
    "$= 1*0.5 + 0*0.5 - 0.8 $\n",
    "\n",
    "$=- 0.3$\n",
    "\n",
    "$F(S)=\\left\\{\n",
    "\\begin{array}{ll}\n",
    "      1 & S>=0 \\\\\n",
    "      0 & S<0 \\\\\n",
    "\\end{array} \n",
    "\\right.$\n",
    "\n",
    "$=0  \\rightarrow output$"
   ]
  },
  {
   "cell_type": "markdown",
   "metadata": {},
   "source": [
    "<hr style=\"border:1px solid gray\"> </hr>\n",
    "\n",
    "let x1=1, x2=1\n",
    "\n",
    "$S = \\sum_{i=1}^{2} x_i w_i + b $\n",
    "\n",
    "$= 1*0.5 + 1*0.5 - 0.8 $\n",
    "\n",
    "$= 0.2$\n",
    "\n",
    "$F(S)=\\left\\{\n",
    "\\begin{array}{ll}\n",
    "      1 & S>=0 \\\\\n",
    "      0 & S<0 \\\\\n",
    "\\end{array} \n",
    "\\right.$\n",
    "\n",
    "$=1  \\rightarrow output$\n",
    "\n",
    "<hr style=\"border:1px solid gray\"> </hr>"
   ]
  },
  {
   "cell_type": "code",
   "execution_count": 1,
   "metadata": {},
   "outputs": [],
   "source": [
    "def F(x):\n",
    "    if x>=0:\n",
    "        return 1\n",
    "    return 0"
   ]
  },
  {
   "cell_type": "code",
   "execution_count": 2,
   "metadata": {},
   "outputs": [],
   "source": [
    "input_vector = [1, 1]\n",
    "weights = [0.5, 0.5]\n",
    "b = -0.8"
   ]
  },
  {
   "cell_type": "code",
   "execution_count": 3,
   "metadata": {},
   "outputs": [],
   "source": [
    "# Computing the dot product of input_vector and weights_1\n",
    "first_indexes_mult = input_vector[0] * weights[0]\n",
    "second_indexes_mult = input_vector[1] * weights[1]\n",
    "dot_product = first_indexes_mult + second_indexes_mult\n",
    "\n",
    "#Computing the summation\n",
    "summation = dot_product + b"
   ]
  },
  {
   "cell_type": "code",
   "execution_count": 4,
   "metadata": {},
   "outputs": [
    {
     "name": "stdout",
     "output_type": "stream",
     "text": [
      "S = 0.19999999999999996\n",
      "F(S) = 1\n"
     ]
    }
   ],
   "source": [
    "print(f\"S = {summation}\")\n",
    "print(f\"F(S) = {F(summation)}\")"
   ]
  },
  {
   "cell_type": "code",
   "execution_count": 5,
   "metadata": {},
   "outputs": [],
   "source": [
    "input_vector = [0, 1]\n",
    "weights = [0.5, 0.5]\n",
    "b = -0.8"
   ]
  },
  {
   "cell_type": "code",
   "execution_count": 6,
   "metadata": {},
   "outputs": [],
   "source": [
    "import numpy as np\n",
    "\n",
    "dot_product = np.dot(input_vector, weights)\n",
    "\n",
    "summation = dot_product + b"
   ]
  },
  {
   "cell_type": "code",
   "execution_count": 7,
   "metadata": {},
   "outputs": [
    {
     "name": "stdout",
     "output_type": "stream",
     "text": [
      "S = -0.30000000000000004\n",
      "F(S) = 0\n"
     ]
    }
   ],
   "source": [
    "print(f\"S = {summation}\")\n",
    "print(f\"F(S) = {F(summation)}\")"
   ]
  },
  {
   "cell_type": "markdown",
   "metadata": {},
   "source": [
    "## Multilayer Neural Network\n",
    "<img src=\"resources/multilayer.png\" width=600 >"
   ]
  },
  {
   "cell_type": "markdown",
   "metadata": {},
   "source": [
    "### Example\n",
    "<img src=\"resources/ex2.png\" width=600 >\n",
    "\n"
   ]
  },
  {
   "cell_type": "code",
   "execution_count": 8,
   "metadata": {},
   "outputs": [],
   "source": [
    "# Wrapping the vectors in NumPy arrays\n",
    "input_vector = np.array([2, 0.3, 1.9])"
   ]
  },
  {
   "cell_type": "code",
   "execution_count": 9,
   "metadata": {},
   "outputs": [],
   "source": [
    "#first layer\n",
    "weights_h1 = np.array([0.1, 0.3, 0.5])\n",
    "weights_h2 = np.array([0.2, 0.4, 0.6])\n",
    "b1 = 0.5"
   ]
  },
  {
   "cell_type": "code",
   "execution_count": 10,
   "metadata": {},
   "outputs": [],
   "source": [
    "#second layer\n",
    "weights_o1 = np.array([0.7, 0.9])\n",
    "weights_o2 = np.array([0.8, 0.1])\n",
    "b2 = 0.5"
   ]
  },
  {
   "cell_type": "code",
   "execution_count": 11,
   "metadata": {},
   "outputs": [],
   "source": [
    "def sigmoid(x):\n",
    "    return 1 / (1 + np.exp(-x))"
   ]
  },
  {
   "cell_type": "code",
   "execution_count": 12,
   "metadata": {},
   "outputs": [],
   "source": [
    "def nodeOutput(input_vector, weights, bias):\n",
    "    Sum = np.dot(input_vector, weights) + bias\n",
    "    node = sigmoid(Sum)\n",
    "    return node"
   ]
  },
  {
   "cell_type": "code",
   "execution_count": 13,
   "metadata": {},
   "outputs": [
    {
     "name": "stdout",
     "output_type": "stream",
     "text": [
      "0.8506870654691563\n"
     ]
    }
   ],
   "source": [
    "h1 = nodeOutput(input_vector, weights_h1, b1)\n",
    "print(h1)"
   ]
  },
  {
   "cell_type": "code",
   "execution_count": 14,
   "metadata": {},
   "outputs": [
    {
     "name": "stdout",
     "output_type": "stream",
     "text": [
      "0.8965995485417504\n"
     ]
    }
   ],
   "source": [
    "h2 = nodeOutput(input_vector, weights_h2, b1)\n",
    "print(h2)"
   ]
  },
  {
   "cell_type": "code",
   "execution_count": 15,
   "metadata": {},
   "outputs": [
    {
     "name": "stdout",
     "output_type": "stream",
     "text": [
      "0.8701652377287568\n"
     ]
    }
   ],
   "source": [
    "O1 = nodeOutput([h1, h2], weights_o1, b2)\n",
    "print(O1)"
   ]
  },
  {
   "cell_type": "code",
   "execution_count": 16,
   "metadata": {},
   "outputs": [
    {
     "name": "stdout",
     "output_type": "stream",
     "text": [
      "0.7807786271018219\n"
     ]
    }
   ],
   "source": [
    "O2 = nodeOutput([h1, h2], weights_o2, b2)\n",
    "print(O2)"
   ]
  },
  {
   "cell_type": "code",
   "execution_count": 17,
   "metadata": {},
   "outputs": [
    {
     "name": "stdout",
     "output_type": "stream",
     "text": [
      "The prediction result is  [0.8701652377287568, 0.7807786271018219]\n"
     ]
    }
   ],
   "source": [
    "print(\"The prediction result is \", [O1, O2])"
   ]
  },
  {
   "cell_type": "code",
   "execution_count": null,
   "metadata": {},
   "outputs": [],
   "source": []
  }
 ],
 "metadata": {
  "kernelspec": {
   "display_name": "Python 3",
   "language": "python",
   "name": "python3"
  },
  "language_info": {
   "codemirror_mode": {
    "name": "ipython",
    "version": 3
   },
   "file_extension": ".py",
   "mimetype": "text/x-python",
   "name": "python",
   "nbconvert_exporter": "python",
   "pygments_lexer": "ipython3",
   "version": "3.8.3"
  }
 },
 "nbformat": 4,
 "nbformat_minor": 2
}
